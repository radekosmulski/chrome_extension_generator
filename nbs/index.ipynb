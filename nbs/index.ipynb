{
 "cells": [
  {
   "cell_type": "code",
   "execution_count": null,
   "metadata": {},
   "outputs": [],
   "source": [
    "#| hide\n",
    "from chrome_extension_generator.core import *"
   ]
  },
  {
   "cell_type": "markdown",
   "metadata": {},
   "source": [
    "# chrome_extension_generator\n",
    "> A command-line tool to streamline the creation of Chrome extensions by automatically generating the required boilerplate files."
   ]
  },
  {
   "cell_type": "markdown",
   "metadata": {},
   "source": [
    "A command-line tool to streamline the creation of Chrome extensions by automatically generating the required boilerplate files.\n",
    "\n",
    "## Why?\n",
    "\n",
    "Chrome extensions are powerful tools for customizing your browsing experience, but setting up the basic structure can be repetitive. This tool was created to eliminate the tedious part of:\n",
    "\n",
    "- Creating the correct directory structure\n",
    "- Writing a basic manifest.json with proper Chrome Extension v3 format\n",
    "- Setting up initial content scripts\n",
    "- Creating documentation\n",
    "\n",
    "By automating these common tasks, developers can focus on what matters: implementing their extension's actual functionality.\n",
    "\n",
    "## Installation\n",
    "Install latest from the GitHub [repository][repo]:\n",
    "\n",
    "```sh\n",
    "$ pip install git+https://github.com/radekosmulski/chrome_extension_generator.git\n",
    "```\n",
    "\n",
    "or from [conda][conda]\n",
    "\n",
    "```sh\n",
    "$ conda install -c radekosmulski chrome_extension_generator\n",
    "```\n",
    "\n",
    "or from [pypi][pypi]\n",
    "\n",
    "\n",
    "```sh\n",
    "$ pip install chrome_extension_generator\n",
    "```\n",
    "\n",
    "\n",
    "[repo]: https://github.com/radekosmulski/chrome_extension_generator\n",
    "[docs]: https://radekosmulski.github.io/chrome_extension_generator/\n",
    "[pypi]: https://pypi.org/project/chrome_extension_generator/\n",
    "[conda]: https://anaconda.org/radekosmulski/chrome_extension_generator\n",
    "\n",
    "## Usage\n",
    "\n",
    "### Command Line Interface\n",
    "\n",
    "After installation, you can use the command line tool directly:\n",
    "```\n",
    "chrome-extension-generate --name \"My Extension\" --desc \"A cool extension\" --url \"https://example.com/*\"\n",
    "```\n",
    "\n",
    "### Python API\n",
    "\n",
    "You can also use it programmatically in your Python code:\n",
    "\n",
    "```\n",
    "from chrome_extension_generator.core import main\n",
    "```\n",
    "\n",
    "### Parameters\n",
    "    --name  Name of your extension (required)\n",
    "    --desc  Short description of what your extension does (optional)\n",
    "    --url   URL pattern where your extension will run (optional)\n",
    "    --repo  GitHub repository URL (optional)\n",
    "\n",
    "## Output Structure\n",
    "```\n",
    "your-extension-name/\n",
    "├── README.md\n",
    "├── manifest.json\n",
    "└── content.js\n",
    "```\n",
    "Each file is pre-populated with the provided information and formatted for easy reading and editing."
   ]
  }
 ],
 "metadata": {
  "kernelspec": {
   "display_name": "python3",
   "language": "python",
   "name": "python3"
  }
 },
 "nbformat": 4,
 "nbformat_minor": 4
}
