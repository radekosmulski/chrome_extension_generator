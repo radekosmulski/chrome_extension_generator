{
 "cells": [
  {
   "cell_type": "markdown",
   "metadata": {},
   "source": [
    "# core\n"
   ]
  },
  {
   "cell_type": "code",
   "execution_count": null,
   "metadata": {},
   "outputs": [],
   "source": [
    "#| default_exp core"
   ]
  },
  {
   "cell_type": "code",
   "execution_count": null,
   "metadata": {},
   "outputs": [],
   "source": [
    "#| hide\n",
    "from nbdev.showdoc import *"
   ]
  },
  {
   "cell_type": "code",
   "execution_count": null,
   "metadata": {},
   "outputs": [],
   "source": [
    "#| export\n",
    "\n",
    "from fastcore.script import *\n",
    "from fastcore.utils import *\n",
    "from pathlib import Path\n",
    "\n",
    "def create_readme(path, name, desc, repo):\n",
    "    \"Create README.md with provided details\"\n",
    "    readme = f\"\"\"# {name}\n",
    "\n",
    "{desc}\n",
    "\n",
    "## Installation\n",
    "\n",
    "1. Clone this repository:\n",
    "\n",
    "```\n",
    "git clone {repo}\n",
    "```\n",
    "\n",
    "2. Open Chrome and navigate to `chrome://extensions/`\n",
    "\n",
    "3. Enable \"Developer mode\" in the top right corner\n",
    "\n",
    "4. Click \"Load unpacked\" and select the directory containing the extension files\n",
    "\n",
    "## Files\n",
    "\n",
    "- `manifest.json` - Extension configuration\n",
    "- `content.js` - The main script that handles the modifications\n",
    "\"\"\"\n",
    "    path.joinpath('README.md').write_text(readme)\n",
    "\n",
    "def create_content_js(path, name):\n",
    "    \"Create content.js with basic structure\"\n",
    "    content = f\"\"\"// Run on page load\n",
    "document.addEventListener('DOMContentLoaded', () => {{\n",
    "  // your functionality goes here\n",
    "  console.log('{name} loaded successfully');\n",
    "}});\n",
    "\"\"\"\n",
    "    path.joinpath('content.js').write_text(content)\n",
    "\n",
    "def create_manifest(path, name, desc, url):\n",
    "    \"Create manifest.json with provided details\"\n",
    "    manifest = {\n",
    "        \"manifest_version\": 3,\n",
    "        \"name\": name,\n",
    "        \"version\": \"1.0\",\n",
    "        \"description\": desc,\n",
    "        \"permissions\": [\"activeTab\"],\n",
    "        \"content_scripts\": [{\n",
    "            \"matches\": [url],\n",
    "            \"js\": [\"content.js\"]\n",
    "        }]\n",
    "    }\n",
    "    path.joinpath('manifest.json').write_text(dumps(manifest, indent=2))\n",
    "\n",
    "@call_parse\n",
    "def main(\n",
    "    name: Param(\"Name of the extension\", str),\n",
    "    desc: Param(\"Description of the extension\", str)=\"\",\n",
    "    url: Param(\"URL pattern to match (e.g. https://example.com/*)\", str)=\"*://*/*\",\n",
    "    repo: Param(\"GitHub repository URL\", str)=\"www.example.com\"\n",
    "):\n",
    "    \"Generate a new Chrome extension with basic structure\"\n",
    "    # Create directory\n",
    "    path = Path(name)\n",
    "    mkdir(path, exist_ok=True)\n",
    "    \n",
    "    # Create files\n",
    "    create_readme(path, name, desc, repo)\n",
    "    create_content_js(path, name)\n",
    "    create_manifest(path, name, desc, url)\n",
    "    \n",
    "    print(f\"Created Chrome extension '{name}' in directory: {path}\")"
   ]
  },
  {
   "cell_type": "code",
   "execution_count": null,
   "metadata": {},
   "outputs": [],
   "source": [
    "#| hide\n",
    "import nbdev; nbdev.nbdev_export()"
   ]
  }
 ],
 "metadata": {
  "kernelspec": {
   "display_name": "python3",
   "language": "python",
   "name": "python3"
  }
 },
 "nbformat": 4,
 "nbformat_minor": 4
}
